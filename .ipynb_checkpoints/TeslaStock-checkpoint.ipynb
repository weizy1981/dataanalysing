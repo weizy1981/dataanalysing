{
 "cells": [
  {
   "cell_type": "markdown",
   "metadata": {},
   "source": [
    "## 特斯拉股票趋势分析\n",
    "特斯拉（Tesla）是一家美国的电动车及能源公司，产销电动车、太阳能板、及储能设备，美股代码TSLA。总部位于美国加利福尼亚州硅谷的帕罗奥多（Palo Alto），2003年最早由马丁·艾伯哈德（Martin Eberhard）和马克·塔彭宁（Marc Tarpenning）共同创立，2004年埃隆·马斯克（Elon Musk）进入公司并领导了A轮融资。创始人将公司命名为“特斯拉汽车（Tesla Motors）”，以纪念物理学家尼古拉·特斯拉（Nikola Tesla）。4月21日，摩根大通最新研究报告称，由于来自宝马和奥迪等德国汽车制造商的竞争加剧，特斯拉电动汽车的销量将受严重影响。摩根大通重申其对特斯拉股票的“减持”评级，原因是梅赛德斯奔驰、宝马和奥迪将推出一大批电动汽车。“我很难过地告诉大家，特斯拉已经彻底破产了。”4月1日特斯拉CEO马斯克发布了上述推特，还附上了一张伤心状照片。然而更令人伤心的是，上述愚人节的玩笑或一语成谶。与此同时，特斯拉官方再次宣布将暂停加州佛利蒙的Mode 3组装线4至5天，以提升自动化以此解决导致其多次推迟产量目标的生产瓶颈。事实上，今年2月份，特斯拉Model 3曾于20日至24日期间停产。由于彼时宣称的停产整修后产能翻倍未能实现，所以此次再度宣布停产后，尽管特斯拉CEO马斯克作出了整修后每月产能6000辆的承诺，仍没能阻止公司股票的应声下跌。面对众说纷纭的措辞和潜在的各路竞争对手，TSLA的未来崎岖起伏，那么有可能预测TSLA股票的走势吗？"
   ]
  },
  {
   "cell_type": "markdown",
   "metadata": {},
   "source": [
    "雅虎财经提供了大量的股价数据，可以使用此数据进行分析，Python中的pandas-datareader包提供了一些列的api可以动态的获取数据。因此，可以使用该包来获取特斯拉的股票数据。在使用之前，首先需要按照pandas-datareader包。在这里使用pip进行安装，命令如下：\n",
    "\n",
    "<code>pip install pandas-datareader<code>"
   ]
  },
  {
   "cell_type": "markdown",
   "metadata": {},
   "source": [
    "安装完成后，首先导入需要的类库，并获取数据。"
   ]
  },
  {
   "cell_type": "code",
   "execution_count": 11,
   "metadata": {},
   "outputs": [
    {
     "data": {
      "text/html": [
       "<div>\n",
       "<style scoped>\n",
       "    .dataframe tbody tr th:only-of-type {\n",
       "        vertical-align: middle;\n",
       "    }\n",
       "\n",
       "    .dataframe tbody tr th {\n",
       "        vertical-align: top;\n",
       "    }\n",
       "\n",
       "    .dataframe thead th {\n",
       "        text-align: right;\n",
       "    }\n",
       "</style>\n",
       "<table border=\"1\" class=\"dataframe\">\n",
       "  <thead>\n",
       "    <tr style=\"text-align: right;\">\n",
       "      <th></th>\n",
       "      <th>High</th>\n",
       "      <th>Low</th>\n",
       "      <th>Open</th>\n",
       "      <th>Close</th>\n",
       "      <th>Volume</th>\n",
       "      <th>Adj Close</th>\n",
       "    </tr>\n",
       "    <tr>\n",
       "      <th>Date</th>\n",
       "      <th></th>\n",
       "      <th></th>\n",
       "      <th></th>\n",
       "      <th></th>\n",
       "      <th></th>\n",
       "      <th></th>\n",
       "    </tr>\n",
       "  </thead>\n",
       "  <tbody>\n",
       "    <tr>\n",
       "      <th>2015-12-31</th>\n",
       "      <td>243.449997</td>\n",
       "      <td>238.369995</td>\n",
       "      <td>238.509995</td>\n",
       "      <td>240.009995</td>\n",
       "      <td>2715000</td>\n",
       "      <td>240.009995</td>\n",
       "    </tr>\n",
       "    <tr>\n",
       "      <th>2016-01-04</th>\n",
       "      <td>231.380005</td>\n",
       "      <td>219.000000</td>\n",
       "      <td>230.720001</td>\n",
       "      <td>223.410004</td>\n",
       "      <td>6827100</td>\n",
       "      <td>223.410004</td>\n",
       "    </tr>\n",
       "    <tr>\n",
       "      <th>2016-01-05</th>\n",
       "      <td>226.889999</td>\n",
       "      <td>220.000000</td>\n",
       "      <td>226.360001</td>\n",
       "      <td>223.429993</td>\n",
       "      <td>3186800</td>\n",
       "      <td>223.429993</td>\n",
       "    </tr>\n",
       "    <tr>\n",
       "      <th>2016-01-06</th>\n",
       "      <td>220.050003</td>\n",
       "      <td>215.979996</td>\n",
       "      <td>220.000000</td>\n",
       "      <td>219.039993</td>\n",
       "      <td>3779100</td>\n",
       "      <td>219.039993</td>\n",
       "    </tr>\n",
       "    <tr>\n",
       "      <th>2016-01-07</th>\n",
       "      <td>218.440002</td>\n",
       "      <td>213.669998</td>\n",
       "      <td>214.190002</td>\n",
       "      <td>215.649994</td>\n",
       "      <td>3554300</td>\n",
       "      <td>215.649994</td>\n",
       "    </tr>\n",
       "  </tbody>\n",
       "</table>\n",
       "</div>"
      ],
      "text/plain": [
       "                  High         Low        Open       Close   Volume  \\\n",
       "Date                                                                  \n",
       "2015-12-31  243.449997  238.369995  238.509995  240.009995  2715000   \n",
       "2016-01-04  231.380005  219.000000  230.720001  223.410004  6827100   \n",
       "2016-01-05  226.889999  220.000000  226.360001  223.429993  3186800   \n",
       "2016-01-06  220.050003  215.979996  220.000000  219.039993  3779100   \n",
       "2016-01-07  218.440002  213.669998  214.190002  215.649994  3554300   \n",
       "\n",
       "             Adj Close  \n",
       "Date                    \n",
       "2015-12-31  240.009995  \n",
       "2016-01-04  223.410004  \n",
       "2016-01-05  223.429993  \n",
       "2016-01-06  219.039993  \n",
       "2016-01-07  215.649994  "
      ]
     },
     "execution_count": 11,
     "metadata": {},
     "output_type": "execute_result"
    }
   ],
   "source": [
    "import pandas as pd\n",
    "import datetime\n",
    "import pandas_datareader.data as web\n",
    "import os\n",
    "\n",
    "# 设定开始，结束日期\n",
    "start = datetime.datetime(2016, 1, 1)\n",
    "end = datetime.date.today()\n",
    "\n",
    "# 获取特斯拉的股票价格数据\n",
    "filename = 'data/tasl/tasl.csv'\n",
    "if os.path.exists(filename):\n",
    "    tsla_prices = pd.read_csv(filename)\n",
    "else:\n",
    "    tsla_prices = web.get_data_yahoo('TSLA', start, end)\n",
    "    tsla_prices.to_csv(filename, index=0)\n",
    "    \n",
    "tsla_prices.head()"
   ]
  },
  {
   "cell_type": "markdown",
   "metadata": {},
   "source": [
    "然后，获取股利收入信息，得到也是一个DataFrame，包含action和value两个字断，action表示证券所进行的操作，如派发股利，或股票分割等等，而value则表示操作值。如果，没有数据会返回一个空的DataFrame。"
   ]
  },
  {
   "cell_type": "code",
   "execution_count": 12,
   "metadata": {},
   "outputs": [
    {
     "data": {
      "text/html": [
       "<div>\n",
       "<style scoped>\n",
       "    .dataframe tbody tr th:only-of-type {\n",
       "        vertical-align: middle;\n",
       "    }\n",
       "\n",
       "    .dataframe tbody tr th {\n",
       "        vertical-align: top;\n",
       "    }\n",
       "\n",
       "    .dataframe thead th {\n",
       "        text-align: right;\n",
       "    }\n",
       "</style>\n",
       "<table border=\"1\" class=\"dataframe\">\n",
       "  <thead>\n",
       "    <tr style=\"text-align: right;\">\n",
       "      <th></th>\n",
       "      <th>action</th>\n",
       "      <th>value</th>\n",
       "    </tr>\n",
       "  </thead>\n",
       "  <tbody>\n",
       "  </tbody>\n",
       "</table>\n",
       "</div>"
      ],
      "text/plain": [
       "Empty DataFrame\n",
       "Columns: [action, value]\n",
       "Index: []"
      ]
     },
     "execution_count": 12,
     "metadata": {},
     "output_type": "execute_result"
    }
   ],
   "source": [
    "filename = 'data/tasl/tasl_actions.csv'\n",
    "if os.path.exists(filename):\n",
    "    tsla_actions = pd.read_csv(filename)\n",
    "else:\n",
    "    tsla_actions = web.get_data_yahoo_actions('TSLA', start, end)\n",
    "    tsla_actions.to_csv(filename, index=0)\n",
    "    \n",
    "tsla_actions.head()"
   ]
  },
  {
   "cell_type": "markdown",
   "metadata": {},
   "source": [
    "可以看到，特斯拉在这个时间段没有任何分红或者拆分信息。因为，这里没有action数据，因此不需要对这两个DataFrame进行合并。如果，需要何必可以使用DataFrame的merge函数，它可以根据一定规则将两个DataFrame变量合并。\n",
    "\n",
    "<code>prices = pd.merge(tsla_prices, tsla_actions, how='outer', left_index=True, right_index=True)<code>"
   ]
  },
  {
   "cell_type": "markdown",
   "metadata": {},
   "source": [
    "为了处理的统一，在这里既是没有数据，也将这两个数据集进行合并。"
   ]
  },
  {
   "cell_type": "code",
   "execution_count": 15,
   "metadata": {},
   "outputs": [
    {
     "data": {
      "text/html": [
       "<div>\n",
       "<style scoped>\n",
       "    .dataframe tbody tr th:only-of-type {\n",
       "        vertical-align: middle;\n",
       "    }\n",
       "\n",
       "    .dataframe tbody tr th {\n",
       "        vertical-align: top;\n",
       "    }\n",
       "\n",
       "    .dataframe thead th {\n",
       "        text-align: right;\n",
       "    }\n",
       "</style>\n",
       "<table border=\"1\" class=\"dataframe\">\n",
       "  <thead>\n",
       "    <tr style=\"text-align: right;\">\n",
       "      <th></th>\n",
       "      <th>High</th>\n",
       "      <th>Low</th>\n",
       "      <th>Open</th>\n",
       "      <th>Close</th>\n",
       "      <th>Volume</th>\n",
       "      <th>Adj Close</th>\n",
       "      <th>action</th>\n",
       "      <th>value</th>\n",
       "    </tr>\n",
       "    <tr>\n",
       "      <th>Date</th>\n",
       "      <th></th>\n",
       "      <th></th>\n",
       "      <th></th>\n",
       "      <th></th>\n",
       "      <th></th>\n",
       "      <th></th>\n",
       "      <th></th>\n",
       "      <th></th>\n",
       "    </tr>\n",
       "  </thead>\n",
       "  <tbody>\n",
       "    <tr>\n",
       "      <th>2015-12-31</th>\n",
       "      <td>243.449997</td>\n",
       "      <td>238.369995</td>\n",
       "      <td>238.509995</td>\n",
       "      <td>240.009995</td>\n",
       "      <td>2715000</td>\n",
       "      <td>240.009995</td>\n",
       "      <td>NaN</td>\n",
       "      <td>NaN</td>\n",
       "    </tr>\n",
       "    <tr>\n",
       "      <th>2016-01-04</th>\n",
       "      <td>231.380005</td>\n",
       "      <td>219.000000</td>\n",
       "      <td>230.720001</td>\n",
       "      <td>223.410004</td>\n",
       "      <td>6827100</td>\n",
       "      <td>223.410004</td>\n",
       "      <td>NaN</td>\n",
       "      <td>NaN</td>\n",
       "    </tr>\n",
       "    <tr>\n",
       "      <th>2016-01-05</th>\n",
       "      <td>226.889999</td>\n",
       "      <td>220.000000</td>\n",
       "      <td>226.360001</td>\n",
       "      <td>223.429993</td>\n",
       "      <td>3186800</td>\n",
       "      <td>223.429993</td>\n",
       "      <td>NaN</td>\n",
       "      <td>NaN</td>\n",
       "    </tr>\n",
       "    <tr>\n",
       "      <th>2016-01-06</th>\n",
       "      <td>220.050003</td>\n",
       "      <td>215.979996</td>\n",
       "      <td>220.000000</td>\n",
       "      <td>219.039993</td>\n",
       "      <td>3779100</td>\n",
       "      <td>219.039993</td>\n",
       "      <td>NaN</td>\n",
       "      <td>NaN</td>\n",
       "    </tr>\n",
       "    <tr>\n",
       "      <th>2016-01-07</th>\n",
       "      <td>218.440002</td>\n",
       "      <td>213.669998</td>\n",
       "      <td>214.190002</td>\n",
       "      <td>215.649994</td>\n",
       "      <td>3554300</td>\n",
       "      <td>215.649994</td>\n",
       "      <td>NaN</td>\n",
       "      <td>NaN</td>\n",
       "    </tr>\n",
       "  </tbody>\n",
       "</table>\n",
       "</div>"
      ],
      "text/plain": [
       "                  High         Low        Open       Close   Volume  \\\n",
       "Date                                                                  \n",
       "2015-12-31  243.449997  238.369995  238.509995  240.009995  2715000   \n",
       "2016-01-04  231.380005  219.000000  230.720001  223.410004  6827100   \n",
       "2016-01-05  226.889999  220.000000  226.360001  223.429993  3186800   \n",
       "2016-01-06  220.050003  215.979996  220.000000  219.039993  3779100   \n",
       "2016-01-07  218.440002  213.669998  214.190002  215.649994  3554300   \n",
       "\n",
       "             Adj Close action value  \n",
       "Date                                 \n",
       "2015-12-31  240.009995    NaN   NaN  \n",
       "2016-01-04  223.410004    NaN   NaN  \n",
       "2016-01-05  223.429993    NaN   NaN  \n",
       "2016-01-06  219.039993    NaN   NaN  \n",
       "2016-01-07  215.649994    NaN   NaN  "
      ]
     },
     "execution_count": 15,
     "metadata": {},
     "output_type": "execute_result"
    }
   ],
   "source": [
    "prices = pd.merge(tsla_prices, tsla_actions, how='outer', left_index=True, right_index=True)\n",
    "prices.head()"
   ]
  },
  {
   "cell_type": "code",
   "execution_count": null,
   "metadata": {},
   "outputs": [],
   "source": []
  }
 ],
 "metadata": {
  "kernelspec": {
   "display_name": "Python 3",
   "language": "python",
   "name": "python3"
  },
  "language_info": {
   "codemirror_mode": {
    "name": "ipython",
    "version": 3
   },
   "file_extension": ".py",
   "mimetype": "text/x-python",
   "name": "python",
   "nbconvert_exporter": "python",
   "pygments_lexer": "ipython3",
   "version": "3.6.4"
  }
 },
 "nbformat": 4,
 "nbformat_minor": 2
}
